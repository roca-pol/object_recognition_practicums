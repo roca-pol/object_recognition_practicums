{
  "nbformat": 4,
  "nbformat_minor": 0,
  "metadata": {
    "kernelspec": {
      "display_name": "Python 3",
      "language": "python",
      "name": "python3"
    },
    "language_info": {
      "codemirror_mode": {
        "name": "ipython",
        "version": 3
      },
      "file_extension": ".py",
      "mimetype": "text/x-python",
      "name": "python",
      "nbconvert_exporter": "python",
      "pygments_lexer": "ipython3",
      "version": "3.7.6"
    },
    "colab": {
      "name": "part2_best_architecture.ipynb",
      "provenance": [],
      "collapsed_sections": []
    },
    "accelerator": "GPU"
  },
  "cells": [
    {
      "cell_type": "markdown",
      "metadata": {
        "id": "vtwHHCb1FzwW"
      },
      "source": [
        "## Part 2 - Best architecture\n",
        "#### *Pol Roca Llaberia*"
      ]
    },
    {
      "cell_type": "markdown",
      "metadata": {
        "id": "pukWA48wnQ9X"
      },
      "source": [
        "This notebook will try to make use of the best improvements analyzed in part 1 in order to build a competing architecture for a CNN that classifies the Fashion MNIST dataset, a more modern updated version of MNIST handwritten digits. "
      ]
    },
    {
      "cell_type": "code",
      "metadata": {
        "id": "7y5LiL_V1Vxv"
      },
      "source": [
        "import tensorflow as tf\n",
        "from tensorflow import keras\n",
        "from tensorflow.keras import datasets, layers, models\n",
        "from keras.preprocessing.image import ImageDataGenerator\n",
        "from keras.callbacks import EarlyStopping\n",
        "import matplotlib.pyplot as plt\n",
        "import numpy as np "
      ],
      "execution_count": null,
      "outputs": []
    },
    {
      "cell_type": "code",
      "metadata": {
        "id": "i-3a_euT1Vxw"
      },
      "source": [
        "# Model / data parameters\n",
        "num_classes = 10\n",
        "input_shape = (28, 28, 1)\n",
        "\n",
        "# the data, split between train and test sets\n",
        "(X_train, y_train), (X_test, y_test) = keras.datasets.fashion_mnist.load_data()"
      ],
      "execution_count": null,
      "outputs": []
    },
    {
      "cell_type": "code",
      "metadata": {
        "id": "3ia81W854I0P"
      },
      "source": [
        "N = 300"
      ],
      "execution_count": null,
      "outputs": []
    },
    {
      "cell_type": "code",
      "metadata": {
        "id": "DrAMlHLj1Vxw"
      },
      "source": [
        "X_train = X_train[:N]\n",
        "y_train = y_train[:N]\n",
        "X_test = X_test[:2500]\n",
        "y_test = y_test[:2500]\n",
        "\n",
        "# Make sure images have shape (28, 28, 1)\n",
        "X_train = np.expand_dims(X_train, -1)\n",
        "X_test = np.expand_dims(X_test, -1)"
      ],
      "execution_count": null,
      "outputs": []
    },
    {
      "cell_type": "code",
      "metadata": {
        "id": "sE0K4gC648vc",
        "colab": {
          "base_uri": "https://localhost:8080/"
        },
        "outputId": "54da5013-392f-45d9-f691-7bd9a50211f9"
      },
      "source": [
        "print(X_train.shape)\n",
        "print(X_test.shape)\n",
        "np.unique(y_test, return_counts=True)"
      ],
      "execution_count": null,
      "outputs": [
        {
          "output_type": "stream",
          "text": [
            "(300, 28, 28, 1)\n",
            "(2500, 28, 28, 1)\n"
          ],
          "name": "stdout"
        },
        {
          "output_type": "execute_result",
          "data": {
            "text/plain": [
              "(array([0, 1, 2, 3, 4, 5, 6, 7, 8, 9], dtype=uint8),\n",
              " array([248, 252, 257, 252, 271, 247, 241, 241, 246, 245]))"
            ]
          },
          "metadata": {
            "tags": []
          },
          "execution_count": 5
        }
      ]
    },
    {
      "cell_type": "markdown",
      "metadata": {
        "id": "GSxjSwoDypd5"
      },
      "source": [
        "Normalize data"
      ]
    },
    {
      "cell_type": "code",
      "metadata": {
        "id": "XQSGKZ9Tyqrm"
      },
      "source": [
        "X_train = X_train.astype('float32') / X_train.max()\n",
        "X_test = X_test.astype('float32') / X_test.max()"
      ],
      "execution_count": null,
      "outputs": []
    },
    {
      "cell_type": "markdown",
      "metadata": {
        "id": "6IjkY-_xzccb"
      },
      "source": [
        "Create an image generator that uses the best performing techniques"
      ]
    },
    {
      "cell_type": "code",
      "metadata": {
        "id": "s5WitzD9y5ge"
      },
      "source": [
        "img_gen = ImageDataGenerator(zoom_range=0.15,\n",
        "                             shear_range=0.15)"
      ],
      "execution_count": null,
      "outputs": []
    },
    {
      "cell_type": "markdown",
      "metadata": {
        "id": "F-JsAYD_Wlnf"
      },
      "source": [
        "Let's define a deeper network now that we have more (augmented) data"
      ]
    },
    {
      "cell_type": "code",
      "metadata": {
        "id": "3Librn3B1Vxx"
      },
      "source": [
        "def build_model():\n",
        "    model = models.Sequential()\n",
        "    model.add(layers.Conv2D(32, (3, 3), activation='relu', kernel_initializer='he_normal', padding='same', input_shape=input_shape))\n",
        "    model.add(layers.Conv2D(32, (3, 3), activation='relu', kernel_initializer='he_normal', padding='same'))\n",
        "    model.add(layers.BatchNormalization())\n",
        "    model.add(layers.MaxPooling2D((2, 2), strides=(2, 2)))\n",
        "\n",
        "    model.add(layers.Conv2D(64, (3, 3), activation='relu', kernel_initializer='he_normal', padding='same'))\n",
        "    model.add(layers.Conv2D(64, (3, 3), activation='relu', kernel_initializer='he_normal', padding='same' ))\n",
        "    model.add(layers.BatchNormalization())\n",
        "    model.add(layers.MaxPooling2D((2, 2), strides=(2, 2)))\n",
        "\n",
        "    model.add(layers.Flatten())\n",
        "    model.add(layers.Dropout(0.5))\n",
        "    model.add(layers.Dense(num_classes))\n",
        "    return model"
      ],
      "execution_count": null,
      "outputs": []
    },
    {
      "cell_type": "code",
      "metadata": {
        "colab": {
          "base_uri": "https://localhost:8080/"
        },
        "id": "bBnh-9w11Vxy",
        "outputId": "436ae1ce-ad98-4874-a3f2-9e270cd7b345"
      },
      "source": [
        "model = build_model()\n",
        "model.summary()"
      ],
      "execution_count": null,
      "outputs": [
        {
          "output_type": "stream",
          "text": [
            "Model: \"sequential_3\"\n",
            "_________________________________________________________________\n",
            "Layer (type)                 Output Shape              Param #   \n",
            "=================================================================\n",
            "conv2d_12 (Conv2D)           (None, 28, 28, 32)        320       \n",
            "_________________________________________________________________\n",
            "conv2d_13 (Conv2D)           (None, 28, 28, 32)        9248      \n",
            "_________________________________________________________________\n",
            "batch_normalization_6 (Batch (None, 28, 28, 32)        128       \n",
            "_________________________________________________________________\n",
            "max_pooling2d_6 (MaxPooling2 (None, 14, 14, 32)        0         \n",
            "_________________________________________________________________\n",
            "conv2d_14 (Conv2D)           (None, 14, 14, 64)        18496     \n",
            "_________________________________________________________________\n",
            "conv2d_15 (Conv2D)           (None, 14, 14, 64)        36928     \n",
            "_________________________________________________________________\n",
            "batch_normalization_7 (Batch (None, 14, 14, 64)        256       \n",
            "_________________________________________________________________\n",
            "max_pooling2d_7 (MaxPooling2 (None, 7, 7, 64)          0         \n",
            "_________________________________________________________________\n",
            "flatten_3 (Flatten)          (None, 3136)              0         \n",
            "_________________________________________________________________\n",
            "dropout_3 (Dropout)          (None, 3136)              0         \n",
            "_________________________________________________________________\n",
            "dense_3 (Dense)              (None, 10)                31370     \n",
            "=================================================================\n",
            "Total params: 96,746\n",
            "Trainable params: 96,554\n",
            "Non-trainable params: 192\n",
            "_________________________________________________________________\n"
          ],
          "name": "stdout"
        }
      ]
    },
    {
      "cell_type": "code",
      "metadata": {
        "id": "7TEqkMTd1Vxy"
      },
      "source": [
        "model.compile(optimizer='adam',\n",
        "              loss=tf.keras.losses.SparseCategoricalCrossentropy(from_logits=True),\n",
        "              metrics=['accuracy'])"
      ],
      "execution_count": null,
      "outputs": []
    },
    {
      "cell_type": "code",
      "metadata": {
        "colab": {
          "base_uri": "https://localhost:8080/"
        },
        "id": "fVzb_NSm1Vxy",
        "outputId": "3040b81d-a36d-4bf7-fa95-ccb5ce6aba70"
      },
      "source": [
        "data_train = img_gen.flow(X_train, y_train, batch_size=32)\n",
        "\n",
        "history = model.fit(data_train, \n",
        "                    epochs=100, \n",
        "                    validation_data=(X_test, y_test),\n",
        "                    verbose=1).history"
      ],
      "execution_count": null,
      "outputs": [
        {
          "output_type": "stream",
          "text": [
            "Epoch 1/100\n",
            "10/10 [==============================] - 1s 51ms/step - loss: 3.2165 - accuracy: 0.2615 - val_loss: 1.8273 - val_accuracy: 0.3988\n",
            "Epoch 2/100\n",
            "10/10 [==============================] - 0s 34ms/step - loss: 1.5118 - accuracy: 0.5678 - val_loss: 1.4702 - val_accuracy: 0.5192\n",
            "Epoch 3/100\n",
            "10/10 [==============================] - 0s 33ms/step - loss: 1.2998 - accuracy: 0.6790 - val_loss: 1.4510 - val_accuracy: 0.5444\n",
            "Epoch 4/100\n",
            "10/10 [==============================] - 0s 35ms/step - loss: 0.9051 - accuracy: 0.7163 - val_loss: 1.3563 - val_accuracy: 0.6076\n",
            "Epoch 5/100\n",
            "10/10 [==============================] - 0s 32ms/step - loss: 0.9138 - accuracy: 0.7272 - val_loss: 1.2200 - val_accuracy: 0.5944\n",
            "Epoch 6/100\n",
            "10/10 [==============================] - 0s 33ms/step - loss: 0.7060 - accuracy: 0.7847 - val_loss: 1.1173 - val_accuracy: 0.6304\n",
            "Epoch 7/100\n",
            "10/10 [==============================] - 0s 32ms/step - loss: 0.6701 - accuracy: 0.8009 - val_loss: 1.0692 - val_accuracy: 0.6496\n",
            "Epoch 8/100\n",
            "10/10 [==============================] - 0s 32ms/step - loss: 0.5940 - accuracy: 0.8164 - val_loss: 1.0647 - val_accuracy: 0.6568\n",
            "Epoch 9/100\n",
            "10/10 [==============================] - 0s 33ms/step - loss: 0.5895 - accuracy: 0.8204 - val_loss: 0.9188 - val_accuracy: 0.6812\n",
            "Epoch 10/100\n",
            "10/10 [==============================] - 0s 32ms/step - loss: 0.5509 - accuracy: 0.8396 - val_loss: 0.9945 - val_accuracy: 0.6504\n",
            "Epoch 11/100\n",
            "10/10 [==============================] - 0s 32ms/step - loss: 0.4151 - accuracy: 0.8603 - val_loss: 0.8788 - val_accuracy: 0.7012\n",
            "Epoch 12/100\n",
            "10/10 [==============================] - 0s 34ms/step - loss: 0.5454 - accuracy: 0.8398 - val_loss: 0.8609 - val_accuracy: 0.7164\n",
            "Epoch 13/100\n",
            "10/10 [==============================] - 0s 30ms/step - loss: 0.4610 - accuracy: 0.8598 - val_loss: 0.9328 - val_accuracy: 0.6788\n",
            "Epoch 14/100\n",
            "10/10 [==============================] - 0s 31ms/step - loss: 0.3210 - accuracy: 0.8849 - val_loss: 0.8924 - val_accuracy: 0.6940\n",
            "Epoch 15/100\n",
            "10/10 [==============================] - 0s 33ms/step - loss: 0.5139 - accuracy: 0.8703 - val_loss: 0.9410 - val_accuracy: 0.6796\n",
            "Epoch 16/100\n",
            "10/10 [==============================] - 0s 32ms/step - loss: 0.4869 - accuracy: 0.8716 - val_loss: 0.7996 - val_accuracy: 0.7284\n",
            "Epoch 17/100\n",
            "10/10 [==============================] - 0s 31ms/step - loss: 0.3460 - accuracy: 0.8870 - val_loss: 0.7557 - val_accuracy: 0.7496\n",
            "Epoch 18/100\n",
            "10/10 [==============================] - 0s 33ms/step - loss: 0.3875 - accuracy: 0.8707 - val_loss: 0.7123 - val_accuracy: 0.7548\n",
            "Epoch 19/100\n",
            "10/10 [==============================] - 0s 32ms/step - loss: 0.3367 - accuracy: 0.8837 - val_loss: 0.7350 - val_accuracy: 0.7484\n",
            "Epoch 20/100\n",
            "10/10 [==============================] - 0s 32ms/step - loss: 0.3814 - accuracy: 0.8404 - val_loss: 0.7653 - val_accuracy: 0.7516\n",
            "Epoch 21/100\n",
            "10/10 [==============================] - 0s 32ms/step - loss: 0.2313 - accuracy: 0.9284 - val_loss: 0.7177 - val_accuracy: 0.7552\n",
            "Epoch 22/100\n",
            "10/10 [==============================] - 0s 31ms/step - loss: 0.4063 - accuracy: 0.8795 - val_loss: 0.7196 - val_accuracy: 0.7612\n",
            "Epoch 23/100\n",
            "10/10 [==============================] - 0s 33ms/step - loss: 0.2233 - accuracy: 0.9303 - val_loss: 0.7508 - val_accuracy: 0.7316\n",
            "Epoch 24/100\n",
            "10/10 [==============================] - 0s 33ms/step - loss: 0.2572 - accuracy: 0.9107 - val_loss: 0.7473 - val_accuracy: 0.7576\n",
            "Epoch 25/100\n",
            "10/10 [==============================] - 0s 30ms/step - loss: 0.2163 - accuracy: 0.9273 - val_loss: 0.8083 - val_accuracy: 0.7172\n",
            "Epoch 26/100\n",
            "10/10 [==============================] - 0s 33ms/step - loss: 0.2466 - accuracy: 0.9268 - val_loss: 0.8025 - val_accuracy: 0.7232\n",
            "Epoch 27/100\n",
            "10/10 [==============================] - 0s 32ms/step - loss: 0.3169 - accuracy: 0.8971 - val_loss: 0.7075 - val_accuracy: 0.7676\n",
            "Epoch 28/100\n",
            "10/10 [==============================] - 0s 33ms/step - loss: 0.2803 - accuracy: 0.8961 - val_loss: 0.7690 - val_accuracy: 0.7588\n",
            "Epoch 29/100\n",
            "10/10 [==============================] - 0s 33ms/step - loss: 0.3311 - accuracy: 0.8730 - val_loss: 0.7013 - val_accuracy: 0.7744\n",
            "Epoch 30/100\n",
            "10/10 [==============================] - 0s 32ms/step - loss: 0.1992 - accuracy: 0.9257 - val_loss: 0.7549 - val_accuracy: 0.7592\n",
            "Epoch 31/100\n",
            "10/10 [==============================] - 0s 33ms/step - loss: 0.2434 - accuracy: 0.9092 - val_loss: 0.7538 - val_accuracy: 0.7656\n",
            "Epoch 32/100\n",
            "10/10 [==============================] - 0s 33ms/step - loss: 0.3424 - accuracy: 0.9123 - val_loss: 0.7166 - val_accuracy: 0.7804\n",
            "Epoch 33/100\n",
            "10/10 [==============================] - 0s 32ms/step - loss: 0.1237 - accuracy: 0.9511 - val_loss: 0.7204 - val_accuracy: 0.7756\n",
            "Epoch 34/100\n",
            "10/10 [==============================] - 0s 30ms/step - loss: 0.2079 - accuracy: 0.9408 - val_loss: 0.6431 - val_accuracy: 0.8004\n",
            "Epoch 35/100\n",
            "10/10 [==============================] - 0s 32ms/step - loss: 0.1647 - accuracy: 0.9474 - val_loss: 0.6514 - val_accuracy: 0.8052\n",
            "Epoch 36/100\n",
            "10/10 [==============================] - 0s 31ms/step - loss: 0.2594 - accuracy: 0.8917 - val_loss: 0.8317 - val_accuracy: 0.7852\n",
            "Epoch 37/100\n",
            "10/10 [==============================] - 0s 32ms/step - loss: 0.0983 - accuracy: 0.9719 - val_loss: 0.8513 - val_accuracy: 0.7816\n",
            "Epoch 38/100\n",
            "10/10 [==============================] - 0s 31ms/step - loss: 0.1830 - accuracy: 0.9380 - val_loss: 0.8792 - val_accuracy: 0.7616\n",
            "Epoch 39/100\n",
            "10/10 [==============================] - 0s 32ms/step - loss: 0.2310 - accuracy: 0.9385 - val_loss: 0.7574 - val_accuracy: 0.7924\n",
            "Epoch 40/100\n",
            "10/10 [==============================] - 0s 32ms/step - loss: 0.1186 - accuracy: 0.9592 - val_loss: 0.7909 - val_accuracy: 0.7864\n",
            "Epoch 41/100\n",
            "10/10 [==============================] - 0s 30ms/step - loss: 0.0870 - accuracy: 0.9702 - val_loss: 0.8216 - val_accuracy: 0.7928\n",
            "Epoch 42/100\n",
            "10/10 [==============================] - 0s 33ms/step - loss: 0.1492 - accuracy: 0.9363 - val_loss: 0.7162 - val_accuracy: 0.8124\n",
            "Epoch 43/100\n",
            "10/10 [==============================] - 0s 34ms/step - loss: 0.1045 - accuracy: 0.9546 - val_loss: 0.9050 - val_accuracy: 0.7540\n",
            "Epoch 44/100\n",
            "10/10 [==============================] - 0s 33ms/step - loss: 0.2023 - accuracy: 0.9190 - val_loss: 0.8376 - val_accuracy: 0.7948\n",
            "Epoch 45/100\n",
            "10/10 [==============================] - 0s 32ms/step - loss: 0.2271 - accuracy: 0.9352 - val_loss: 0.9277 - val_accuracy: 0.7604\n",
            "Epoch 46/100\n",
            "10/10 [==============================] - 0s 33ms/step - loss: 0.2013 - accuracy: 0.9441 - val_loss: 1.1214 - val_accuracy: 0.7452\n",
            "Epoch 47/100\n",
            "10/10 [==============================] - 0s 32ms/step - loss: 0.2079 - accuracy: 0.9472 - val_loss: 0.8726 - val_accuracy: 0.7872\n",
            "Epoch 48/100\n",
            "10/10 [==============================] - 0s 32ms/step - loss: 0.2220 - accuracy: 0.9343 - val_loss: 0.7749 - val_accuracy: 0.8068\n",
            "Epoch 49/100\n",
            "10/10 [==============================] - 0s 33ms/step - loss: 0.1339 - accuracy: 0.9411 - val_loss: 0.8432 - val_accuracy: 0.8096\n",
            "Epoch 50/100\n",
            "10/10 [==============================] - 0s 31ms/step - loss: 0.1481 - accuracy: 0.9594 - val_loss: 0.8044 - val_accuracy: 0.8232\n",
            "Epoch 51/100\n",
            "10/10 [==============================] - 0s 32ms/step - loss: 0.1525 - accuracy: 0.9655 - val_loss: 0.8150 - val_accuracy: 0.8072\n",
            "Epoch 52/100\n",
            "10/10 [==============================] - 0s 32ms/step - loss: 0.1708 - accuracy: 0.9268 - val_loss: 0.7812 - val_accuracy: 0.8112\n",
            "Epoch 53/100\n",
            "10/10 [==============================] - 0s 34ms/step - loss: 0.1056 - accuracy: 0.9702 - val_loss: 0.8734 - val_accuracy: 0.7940\n",
            "Epoch 54/100\n",
            "10/10 [==============================] - 0s 32ms/step - loss: 0.1026 - accuracy: 0.9568 - val_loss: 0.8338 - val_accuracy: 0.8096\n",
            "Epoch 55/100\n",
            "10/10 [==============================] - 0s 32ms/step - loss: 0.1112 - accuracy: 0.9637 - val_loss: 1.0926 - val_accuracy: 0.7628\n",
            "Epoch 56/100\n",
            "10/10 [==============================] - 0s 31ms/step - loss: 0.1344 - accuracy: 0.9599 - val_loss: 0.9224 - val_accuracy: 0.8028\n",
            "Epoch 57/100\n",
            "10/10 [==============================] - 0s 31ms/step - loss: 0.1101 - accuracy: 0.9712 - val_loss: 0.8939 - val_accuracy: 0.8072\n",
            "Epoch 58/100\n",
            "10/10 [==============================] - 0s 32ms/step - loss: 0.1098 - accuracy: 0.9497 - val_loss: 1.0404 - val_accuracy: 0.7936\n",
            "Epoch 59/100\n",
            "10/10 [==============================] - 0s 31ms/step - loss: 0.0520 - accuracy: 0.9792 - val_loss: 0.9970 - val_accuracy: 0.7960\n",
            "Epoch 60/100\n",
            "10/10 [==============================] - 0s 31ms/step - loss: 0.0568 - accuracy: 0.9765 - val_loss: 0.9481 - val_accuracy: 0.8036\n",
            "Epoch 61/100\n",
            "10/10 [==============================] - 0s 32ms/step - loss: 0.0468 - accuracy: 0.9868 - val_loss: 0.9775 - val_accuracy: 0.8016\n",
            "Epoch 62/100\n",
            "10/10 [==============================] - 0s 32ms/step - loss: 0.0903 - accuracy: 0.9682 - val_loss: 0.8985 - val_accuracy: 0.8208\n",
            "Epoch 63/100\n",
            "10/10 [==============================] - 0s 32ms/step - loss: 0.1307 - accuracy: 0.9681 - val_loss: 1.2367 - val_accuracy: 0.7716\n",
            "Epoch 64/100\n",
            "10/10 [==============================] - 0s 33ms/step - loss: 0.2079 - accuracy: 0.9398 - val_loss: 0.9509 - val_accuracy: 0.8116\n",
            "Epoch 65/100\n",
            "10/10 [==============================] - 0s 31ms/step - loss: 0.0881 - accuracy: 0.9754 - val_loss: 1.0591 - val_accuracy: 0.7888\n",
            "Epoch 66/100\n",
            "10/10 [==============================] - 0s 31ms/step - loss: 0.1586 - accuracy: 0.9468 - val_loss: 1.1576 - val_accuracy: 0.7884\n",
            "Epoch 67/100\n",
            "10/10 [==============================] - 0s 35ms/step - loss: 0.0916 - accuracy: 0.9676 - val_loss: 1.1292 - val_accuracy: 0.7940\n",
            "Epoch 68/100\n",
            "10/10 [==============================] - 0s 35ms/step - loss: 0.0524 - accuracy: 0.9750 - val_loss: 0.9641 - val_accuracy: 0.8112\n",
            "Epoch 69/100\n",
            "10/10 [==============================] - 0s 36ms/step - loss: 0.0417 - accuracy: 0.9795 - val_loss: 1.0512 - val_accuracy: 0.8092\n",
            "Epoch 70/100\n",
            "10/10 [==============================] - 0s 33ms/step - loss: 0.0453 - accuracy: 0.9855 - val_loss: 0.9991 - val_accuracy: 0.8100\n",
            "Epoch 71/100\n",
            "10/10 [==============================] - 0s 32ms/step - loss: 0.0644 - accuracy: 0.9713 - val_loss: 1.0277 - val_accuracy: 0.8024\n",
            "Epoch 72/100\n",
            "10/10 [==============================] - 0s 30ms/step - loss: 0.0414 - accuracy: 0.9844 - val_loss: 1.0350 - val_accuracy: 0.8092\n",
            "Epoch 73/100\n",
            "10/10 [==============================] - 0s 33ms/step - loss: 0.0683 - accuracy: 0.9720 - val_loss: 1.0775 - val_accuracy: 0.8080\n",
            "Epoch 74/100\n",
            "10/10 [==============================] - 0s 33ms/step - loss: 0.0494 - accuracy: 0.9815 - val_loss: 1.0803 - val_accuracy: 0.8020\n",
            "Epoch 75/100\n",
            "10/10 [==============================] - 0s 32ms/step - loss: 0.0555 - accuracy: 0.9812 - val_loss: 1.0987 - val_accuracy: 0.7984\n",
            "Epoch 76/100\n",
            "10/10 [==============================] - 0s 32ms/step - loss: 0.0513 - accuracy: 0.9715 - val_loss: 0.9866 - val_accuracy: 0.8052\n",
            "Epoch 77/100\n",
            "10/10 [==============================] - 0s 34ms/step - loss: 0.0557 - accuracy: 0.9811 - val_loss: 1.0396 - val_accuracy: 0.7968\n",
            "Epoch 78/100\n",
            "10/10 [==============================] - 0s 33ms/step - loss: 0.0601 - accuracy: 0.9708 - val_loss: 0.9752 - val_accuracy: 0.8168\n",
            "Epoch 79/100\n",
            "10/10 [==============================] - 0s 35ms/step - loss: 0.0867 - accuracy: 0.9500 - val_loss: 1.0279 - val_accuracy: 0.8132\n",
            "Epoch 80/100\n",
            "10/10 [==============================] - 0s 35ms/step - loss: 0.0597 - accuracy: 0.9826 - val_loss: 0.9920 - val_accuracy: 0.8204\n",
            "Epoch 81/100\n",
            "10/10 [==============================] - 0s 34ms/step - loss: 0.0578 - accuracy: 0.9875 - val_loss: 1.0143 - val_accuracy: 0.8204\n",
            "Epoch 82/100\n",
            "10/10 [==============================] - 0s 34ms/step - loss: 0.0591 - accuracy: 0.9850 - val_loss: 1.0686 - val_accuracy: 0.8072\n",
            "Epoch 83/100\n",
            "10/10 [==============================] - 0s 32ms/step - loss: 0.0971 - accuracy: 0.9740 - val_loss: 1.0336 - val_accuracy: 0.8016\n",
            "Epoch 84/100\n",
            "10/10 [==============================] - 0s 32ms/step - loss: 0.0364 - accuracy: 0.9924 - val_loss: 0.9924 - val_accuracy: 0.8080\n",
            "Epoch 85/100\n",
            "10/10 [==============================] - 0s 34ms/step - loss: 0.0687 - accuracy: 0.9827 - val_loss: 1.0937 - val_accuracy: 0.8104\n",
            "Epoch 86/100\n",
            "10/10 [==============================] - 0s 35ms/step - loss: 0.0315 - accuracy: 0.9953 - val_loss: 1.0383 - val_accuracy: 0.8128\n",
            "Epoch 87/100\n",
            "10/10 [==============================] - 0s 35ms/step - loss: 0.0422 - accuracy: 0.9913 - val_loss: 1.1986 - val_accuracy: 0.7824\n",
            "Epoch 88/100\n",
            "10/10 [==============================] - 0s 34ms/step - loss: 0.0774 - accuracy: 0.9713 - val_loss: 1.1879 - val_accuracy: 0.7988\n",
            "Epoch 89/100\n",
            "10/10 [==============================] - 0s 33ms/step - loss: 0.0585 - accuracy: 0.9734 - val_loss: 1.1415 - val_accuracy: 0.8100\n",
            "Epoch 90/100\n",
            "10/10 [==============================] - 0s 33ms/step - loss: 0.0537 - accuracy: 0.9752 - val_loss: 1.1547 - val_accuracy: 0.8072\n",
            "Epoch 91/100\n",
            "10/10 [==============================] - 0s 33ms/step - loss: 0.0343 - accuracy: 0.9910 - val_loss: 1.0341 - val_accuracy: 0.8140\n",
            "Epoch 92/100\n",
            "10/10 [==============================] - 0s 34ms/step - loss: 0.0544 - accuracy: 0.9771 - val_loss: 1.2323 - val_accuracy: 0.7908\n",
            "Epoch 93/100\n",
            "10/10 [==============================] - 0s 34ms/step - loss: 0.0346 - accuracy: 0.9879 - val_loss: 1.3298 - val_accuracy: 0.7708\n",
            "Epoch 94/100\n",
            "10/10 [==============================] - 0s 35ms/step - loss: 0.0638 - accuracy: 0.9622 - val_loss: 1.3917 - val_accuracy: 0.7652\n",
            "Epoch 95/100\n",
            "10/10 [==============================] - 0s 33ms/step - loss: 0.0626 - accuracy: 0.9773 - val_loss: 1.2318 - val_accuracy: 0.7828\n",
            "Epoch 96/100\n",
            "10/10 [==============================] - 0s 32ms/step - loss: 0.2057 - accuracy: 0.9589 - val_loss: 1.1204 - val_accuracy: 0.7904\n",
            "Epoch 97/100\n",
            "10/10 [==============================] - 0s 34ms/step - loss: 0.0387 - accuracy: 0.9811 - val_loss: 1.2330 - val_accuracy: 0.7804\n",
            "Epoch 98/100\n",
            "10/10 [==============================] - 0s 32ms/step - loss: 0.0581 - accuracy: 0.9752 - val_loss: 1.1102 - val_accuracy: 0.8176\n",
            "Epoch 99/100\n",
            "10/10 [==============================] - 0s 32ms/step - loss: 0.1530 - accuracy: 0.9492 - val_loss: 1.2425 - val_accuracy: 0.8048\n",
            "Epoch 100/100\n",
            "10/10 [==============================] - 0s 34ms/step - loss: 0.0173 - accuracy: 0.9987 - val_loss: 1.1568 - val_accuracy: 0.8068\n"
          ],
          "name": "stdout"
        }
      ]
    },
    {
      "cell_type": "code",
      "metadata": {
        "colab": {
          "base_uri": "https://localhost:8080/"
        },
        "id": "DWMLkxu01Vxy",
        "outputId": "3c954f73-49ef-4e58-8fee-019bdf5ba7dc"
      },
      "source": [
        "test_loss, test_acc = model.evaluate(X_test,  y_test, verbose=2)"
      ],
      "execution_count": null,
      "outputs": [
        {
          "output_type": "stream",
          "text": [
            "79/79 - 0s - loss: 1.1568 - accuracy: 0.8068\n"
          ],
          "name": "stdout"
        }
      ]
    },
    {
      "cell_type": "code",
      "metadata": {
        "colab": {
          "base_uri": "https://localhost:8080/",
          "height": 350
        },
        "id": "i8aiIGI01Vxz",
        "outputId": "aaf5666c-708e-4425-c2c8-75067476d4eb"
      },
      "source": [
        "fig, axes = plt.subplots(1, 2, figsize=(18, 5))\n",
        "\n",
        "# plot accuracy\n",
        "acc = history['accuracy']\n",
        "val_acc = history['val_accuracy']\n",
        "epochs = range(1, len(acc)+1)\n",
        "\n",
        "ax = axes[0]\n",
        "ax.plot(epochs, acc, 'b', label='Training Acc')\n",
        "ax.plot(epochs, val_acc, 'r', label='Validation Acc')\n",
        "ax.set_title('Accuracy curves')\n",
        "ax.set_xlabel('Epochs')\n",
        "ax.set_ylabel('Accuracy')\n",
        "ax.grid(alpha=0.4)\n",
        "ax.legend()\n",
        "\n",
        "# plot validation loss\n",
        "loss = history['loss']\n",
        "val_loss = history['val_loss']\n",
        "\n",
        "ax = axes[1]\n",
        "ax.plot(epochs, loss, 'b', label='Training loss')\n",
        "ax.plot(epochs, val_loss, 'r', label='Validation loss')\n",
        "ax.set_title('Loss curves')\n",
        "ax.set_xlabel('Epochs')\n",
        "ax.set_ylabel('Loss')\n",
        "ax.grid(alpha=0.4)\n",
        "ax.legend()\n",
        "\n",
        "plt.show()"
      ],
      "execution_count": null,
      "outputs": [
        {
          "output_type": "display_data",
          "data": {
            "image/png": "[encoded data removed]",
            "text/plain": [
              "<Figure size 1296x360 with 2 Axes>"
            ]
          },
          "metadata": {
            "tags": [],
            "needs_background": "light"
          }
        }
      ]
    },
    {
      "cell_type": "markdown",
      "metadata": {
        "id": "zOhZLOn_XoFc"
      },
      "source": [
        "### Observations\n",
        "\n",
        "These are the results of the enhanced architecture that was built using knowledge from previous experiments and by trial and error. The model was able to achieve an **accuracy of 0.82** three times during training, in epochs 62, 81, and 82. We did not stop training there by early stopping so as to be able to see the whole learning curves for 100 epochs. In fact, we can see the network starts to overfit a bit at epoch 40, approximately, since validation loss increases but training loss does not.\n",
        "\n",
        "The architecture consists of two similar blocks formed by 2 convolutional layers followed by a batch norm and a (max) pooling layer. Then, after the flattening a dropout layer was also added, with 50% probability to drop weights - a value obtained by pure trial and error. Given that the convolutional layers use a ReLU activation, I specified the initialization of their weights to be a He normal distribution which is known to work well in practice with this kind of activations, and by trying I definitelly obtained better results with it. Padding was also added to those layers, in this case in order to prevent odd shapes in the inputs of the pooling layers that have stride=2.\n",
        "\n",
        "Finally, this network was able to be built deeper because data was not only normalized but also augmented, and Adam was used as the optimizer (with default lr which worked well). We could also have tried to augment the data of some particular labels with other techniques such as flipping but that would have increased the complexity and memory requirements of the experiment as we would have had to pre-generate and save those instances apart. All in all I think an accuracy of 0.82 is pretty decent considering that the training set had only 300 images."
      ]
    },
    {
      "cell_type": "markdown",
      "metadata": {
        "id": "MFwmZM1hXpnr"
      },
      "source": [
        "---"
      ]
    }
  ]
}